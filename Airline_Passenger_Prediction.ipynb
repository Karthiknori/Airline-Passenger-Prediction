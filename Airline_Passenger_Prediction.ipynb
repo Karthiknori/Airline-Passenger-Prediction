{
  "nbformat": 4,
  "nbformat_minor": 0,
  "metadata": {
    "colab": {
      "name": "Airline-Passenger-Prediction.ipynb",
      "provenance": [],
      "include_colab_link": true
    },
    "kernelspec": {
      "name": "python3",
      "display_name": "Python 3"
    }
  },
  "cells": [
    {
      "cell_type": "markdown",
      "metadata": {
        "id": "view-in-github",
        "colab_type": "text"
      },
      "source": [
        "<a href=\"https://colab.research.google.com/github/Karthiknori/Airline-Passenger-Prediction/blob/master/Airline_Passenger_Prediction.ipynb\" target=\"_parent\"><img src=\"https://colab.research.google.com/assets/colab-badge.svg\" alt=\"Open In Colab\"/></a>"
      ]
    },
    {
      "cell_type": "code",
      "metadata": {
        "id": "uB8ZpITaLV-e",
        "colab_type": "code",
        "outputId": "a6d93e7e-e68d-44b6-b06f-b5c9c5e287f0",
        "colab": {
          "base_uri": "https://localhost:8080/",
          "height": 530
        }
      },
      "source": [
        "pip install tensorflow-gpu==2.0.0-rc0\n"
      ],
      "execution_count": 1,
      "outputs": [
        {
          "output_type": "stream",
          "text": [
            "Collecting tensorflow-gpu==2.0.0-rc0\n",
            "\u001b[?25l  Downloading https://files.pythonhosted.org/packages/6a/12/8c64cc62149cc21c70c55018502831bbf4d42bd62bed196df7de6830d21b/tensorflow_gpu-2.0.0rc0-cp36-cp36m-manylinux2010_x86_64.whl (380.5MB)\n",
            "\u001b[K     |████████████████████████████████| 380.5MB 56kB/s \n",
            "\u001b[?25hRequirement already satisfied: six>=1.10.0 in /usr/local/lib/python3.6/dist-packages (from tensorflow-gpu==2.0.0-rc0) (1.12.0)\n",
            "Requirement already satisfied: gast>=0.2.0 in /usr/local/lib/python3.6/dist-packages (from tensorflow-gpu==2.0.0-rc0) (0.2.2)\n",
            "Collecting tf-estimator-nightly<1.14.0.dev2019080602,>=1.14.0.dev2019080601 (from tensorflow-gpu==2.0.0-rc0)\n",
            "\u001b[?25l  Downloading https://files.pythonhosted.org/packages/21/28/f2a27a62943d5f041e4a6fd404b2d21cb7c59b2242a4e73b03d9ba166552/tf_estimator_nightly-1.14.0.dev2019080601-py2.py3-none-any.whl (501kB)\n",
            "\u001b[K     |████████████████████████████████| 501kB 28.1MB/s \n",
            "\u001b[?25hRequirement already satisfied: grpcio>=1.8.6 in /usr/local/lib/python3.6/dist-packages (from tensorflow-gpu==2.0.0-rc0) (1.15.0)\n",
            "Requirement already satisfied: wheel>=0.26 in /usr/local/lib/python3.6/dist-packages (from tensorflow-gpu==2.0.0-rc0) (0.33.6)\n",
            "Requirement already satisfied: absl-py>=0.7.0 in /usr/local/lib/python3.6/dist-packages (from tensorflow-gpu==2.0.0-rc0) (0.8.0)\n",
            "Requirement already satisfied: termcolor>=1.1.0 in /usr/local/lib/python3.6/dist-packages (from tensorflow-gpu==2.0.0-rc0) (1.1.0)\n",
            "Requirement already satisfied: wrapt>=1.11.1 in /usr/local/lib/python3.6/dist-packages (from tensorflow-gpu==2.0.0-rc0) (1.11.2)\n",
            "Collecting tb-nightly<1.15.0a20190807,>=1.15.0a20190806 (from tensorflow-gpu==2.0.0-rc0)\n",
            "\u001b[?25l  Downloading https://files.pythonhosted.org/packages/bc/88/24b5fb7280e74c7cf65bde47c171547fd02afb3840cff41bcbe9270650f5/tb_nightly-1.15.0a20190806-py3-none-any.whl (4.3MB)\n",
            "\u001b[K     |████████████████████████████████| 4.3MB 26.3MB/s \n",
            "\u001b[?25hRequirement already satisfied: opt-einsum>=2.3.2 in /usr/local/lib/python3.6/dist-packages (from tensorflow-gpu==2.0.0-rc0) (3.1.0)\n",
            "Requirement already satisfied: protobuf>=3.6.1 in /usr/local/lib/python3.6/dist-packages (from tensorflow-gpu==2.0.0-rc0) (3.7.1)\n",
            "Requirement already satisfied: numpy<2.0,>=1.16.0 in /usr/local/lib/python3.6/dist-packages (from tensorflow-gpu==2.0.0-rc0) (1.16.5)\n",
            "Requirement already satisfied: google-pasta>=0.1.6 in /usr/local/lib/python3.6/dist-packages (from tensorflow-gpu==2.0.0-rc0) (0.1.7)\n",
            "Requirement already satisfied: astor>=0.6.0 in /usr/local/lib/python3.6/dist-packages (from tensorflow-gpu==2.0.0-rc0) (0.8.0)\n",
            "Requirement already satisfied: keras-preprocessing>=1.0.5 in /usr/local/lib/python3.6/dist-packages (from tensorflow-gpu==2.0.0-rc0) (1.1.0)\n",
            "Requirement already satisfied: keras-applications>=1.0.8 in /usr/local/lib/python3.6/dist-packages (from tensorflow-gpu==2.0.0-rc0) (1.0.8)\n",
            "Requirement already satisfied: werkzeug>=0.11.15 in /usr/local/lib/python3.6/dist-packages (from tb-nightly<1.15.0a20190807,>=1.15.0a20190806->tensorflow-gpu==2.0.0-rc0) (0.16.0)\n",
            "Requirement already satisfied: setuptools>=41.0.0 in /usr/local/lib/python3.6/dist-packages (from tb-nightly<1.15.0a20190807,>=1.15.0a20190806->tensorflow-gpu==2.0.0-rc0) (41.2.0)\n",
            "Requirement already satisfied: markdown>=2.6.8 in /usr/local/lib/python3.6/dist-packages (from tb-nightly<1.15.0a20190807,>=1.15.0a20190806->tensorflow-gpu==2.0.0-rc0) (3.1.1)\n",
            "Requirement already satisfied: h5py in /usr/local/lib/python3.6/dist-packages (from keras-applications>=1.0.8->tensorflow-gpu==2.0.0-rc0) (2.8.0)\n",
            "Installing collected packages: tf-estimator-nightly, tb-nightly, tensorflow-gpu\n",
            "Successfully installed tb-nightly-1.15.0a20190806 tensorflow-gpu-2.0.0rc0 tf-estimator-nightly-1.14.0.dev2019080601\n"
          ],
          "name": "stdout"
        }
      ]
    },
    {
      "cell_type": "code",
      "metadata": {
        "id": "2dvao0eHLh8F",
        "colab_type": "code",
        "colab": {}
      },
      "source": [
        "# LSTM for international airline passengers problem with regression framing\n",
        "import numpy as np\n",
        "import matplotlib.pyplot as plt\n",
        "import pandas as pd\n",
        "from tensorflow.keras.models import Sequential\n",
        "from tensorflow.keras.layers import Dense, LSTM\n",
        "from sklearn.preprocessing import MinMaxScaler"
      ],
      "execution_count": 0,
      "outputs": []
    },
    {
      "cell_type": "code",
      "metadata": {
        "id": "eaGlMTc-yXyL",
        "colab_type": "code",
        "colab": {
          "base_uri": "https://localhost:8080/",
          "height": 1000
        },
        "outputId": "70f1a742-32e0-4f84-8e48-64a09500687a"
      },
      "source": [
        "dataset = pd.read_csv('AirPassengers.csv')\n",
        "dataset = dataset['#Passengers']\n",
        "dataset = np.array(dataset).reshape(-1,1)\n",
        "dataset"
      ],
      "execution_count": 8,
      "outputs": [
        {
          "output_type": "execute_result",
          "data": {
            "text/plain": [
              "array([[112],\n",
              "       [118],\n",
              "       [132],\n",
              "       [129],\n",
              "       [121],\n",
              "       [135],\n",
              "       [148],\n",
              "       [148],\n",
              "       [136],\n",
              "       [119],\n",
              "       [104],\n",
              "       [118],\n",
              "       [115],\n",
              "       [126],\n",
              "       [141],\n",
              "       [135],\n",
              "       [125],\n",
              "       [149],\n",
              "       [170],\n",
              "       [170],\n",
              "       [158],\n",
              "       [133],\n",
              "       [114],\n",
              "       [140],\n",
              "       [145],\n",
              "       [150],\n",
              "       [178],\n",
              "       [163],\n",
              "       [172],\n",
              "       [178],\n",
              "       [199],\n",
              "       [199],\n",
              "       [184],\n",
              "       [162],\n",
              "       [146],\n",
              "       [166],\n",
              "       [171],\n",
              "       [180],\n",
              "       [193],\n",
              "       [181],\n",
              "       [183],\n",
              "       [218],\n",
              "       [230],\n",
              "       [242],\n",
              "       [209],\n",
              "       [191],\n",
              "       [172],\n",
              "       [194],\n",
              "       [196],\n",
              "       [196],\n",
              "       [236],\n",
              "       [235],\n",
              "       [229],\n",
              "       [243],\n",
              "       [264],\n",
              "       [272],\n",
              "       [237],\n",
              "       [211],\n",
              "       [180],\n",
              "       [201],\n",
              "       [204],\n",
              "       [188],\n",
              "       [235],\n",
              "       [227],\n",
              "       [234],\n",
              "       [264],\n",
              "       [302],\n",
              "       [293],\n",
              "       [259],\n",
              "       [229],\n",
              "       [203],\n",
              "       [229],\n",
              "       [242],\n",
              "       [233],\n",
              "       [267],\n",
              "       [269],\n",
              "       [270],\n",
              "       [315],\n",
              "       [364],\n",
              "       [347],\n",
              "       [312],\n",
              "       [274],\n",
              "       [237],\n",
              "       [278],\n",
              "       [284],\n",
              "       [277],\n",
              "       [317],\n",
              "       [313],\n",
              "       [318],\n",
              "       [374],\n",
              "       [413],\n",
              "       [405],\n",
              "       [355],\n",
              "       [306],\n",
              "       [271],\n",
              "       [306],\n",
              "       [315],\n",
              "       [301],\n",
              "       [356],\n",
              "       [348],\n",
              "       [355],\n",
              "       [422],\n",
              "       [465],\n",
              "       [467],\n",
              "       [404],\n",
              "       [347],\n",
              "       [305],\n",
              "       [336],\n",
              "       [340],\n",
              "       [318],\n",
              "       [362],\n",
              "       [348],\n",
              "       [363],\n",
              "       [435],\n",
              "       [491],\n",
              "       [505],\n",
              "       [404],\n",
              "       [359],\n",
              "       [310],\n",
              "       [337],\n",
              "       [360],\n",
              "       [342],\n",
              "       [406],\n",
              "       [396],\n",
              "       [420],\n",
              "       [472],\n",
              "       [548],\n",
              "       [559],\n",
              "       [463],\n",
              "       [407],\n",
              "       [362],\n",
              "       [405],\n",
              "       [417],\n",
              "       [391],\n",
              "       [419],\n",
              "       [461],\n",
              "       [472],\n",
              "       [535],\n",
              "       [622],\n",
              "       [606],\n",
              "       [508],\n",
              "       [461],\n",
              "       [390],\n",
              "       [432]])"
            ]
          },
          "metadata": {
            "tags": []
          },
          "execution_count": 8
        }
      ]
    },
    {
      "cell_type": "code",
      "metadata": {
        "id": "2hjF0iuWyeSy",
        "colab_type": "code",
        "colab": {
          "base_uri": "https://localhost:8080/",
          "height": 286
        },
        "outputId": "9f019836-3367-458b-81d1-82a6ee80e418"
      },
      "source": [
        "plt.plot(dataset)"
      ],
      "execution_count": 9,
      "outputs": [
        {
          "output_type": "execute_result",
          "data": {
            "text/plain": [
              "[<matplotlib.lines.Line2D at 0x7f12f41c87b8>]"
            ]
          },
          "metadata": {
            "tags": []
          },
          "execution_count": 9
        },
        {
          "output_type": "display_data",
          "data": {
            "image/png": "[encoded data removed]",
            "text/plain": [
              "<Figure size 432x288 with 1 Axes>"
            ]
          },
          "metadata": {
            "tags": []
          }
        }
      ]
    },
    {
      "cell_type": "code",
      "metadata": {
        "id": "_BCxVU4Q0NY2",
        "colab_type": "code",
        "colab": {
          "base_uri": "https://localhost:8080/",
          "height": 34
        },
        "outputId": "29e9f3da-21b3-490c-8ba6-051e9c7c9bc7"
      },
      "source": [
        "scaler = MinMaxScaler()\n",
        "dataset = scaler.fit_transform(dataset)\n",
        "dataset.min()"
      ],
      "execution_count": 10,
      "outputs": [
        {
          "output_type": "execute_result",
          "data": {
            "text/plain": [
              "0.0"
            ]
          },
          "metadata": {
            "tags": []
          },
          "execution_count": 10
        }
      ]
    },
    {
      "cell_type": "code",
      "metadata": {
        "id": "NaOMScOj1m21",
        "colab_type": "code",
        "colab": {}
      },
      "source": [
        "train_size = 100\n",
        "test_size = 44"
      ],
      "execution_count": 0,
      "outputs": []
    },
    {
      "cell_type": "code",
      "metadata": {
        "id": "Qfzno4ce1xVo",
        "colab_type": "code",
        "colab": {
          "base_uri": "https://localhost:8080/",
          "height": 34
        },
        "outputId": "bea34bee-5ac0-441c-d793-7e215aa3528f"
      },
      "source": [
        "train = dataset[0:train_size, :]\n",
        "train.shape"
      ],
      "execution_count": 12,
      "outputs": [
        {
          "output_type": "execute_result",
          "data": {
            "text/plain": [
              "(100, 1)"
            ]
          },
          "metadata": {
            "tags": []
          },
          "execution_count": 12
        }
      ]
    },
    {
      "cell_type": "code",
      "metadata": {
        "id": "56LUN6dp10Zr",
        "colab_type": "code",
        "colab": {
          "base_uri": "https://localhost:8080/",
          "height": 34
        },
        "outputId": "63f200fc-700c-43bb-8e03-559d018fd4d1"
      },
      "source": [
        "test = dataset[train_size:144, :]\n",
        "test.shape"
      ],
      "execution_count": 13,
      "outputs": [
        {
          "output_type": "execute_result",
          "data": {
            "text/plain": [
              "(44, 1)"
            ]
          },
          "metadata": {
            "tags": []
          },
          "execution_count": 13
        }
      ]
    },
    {
      "cell_type": "code",
      "metadata": {
        "id": "HZx_FH0H2fPj",
        "colab_type": "code",
        "colab": {}
      },
      "source": [
        "def get_data(dataset, look_back):\n",
        "    dataX, dataY = [], []\n",
        "    for i in range(len(dataset)-look_back-1):\n",
        "        a = dataset[i:(i+look_back), 0]\n",
        "        dataX.append(a)\n",
        "        dataY.append(dataset[i+look_back, 0])\n",
        "    return np.array(dataX), np.array(dataY)"
      ],
      "execution_count": 0,
      "outputs": []
    },
    {
      "cell_type": "code",
      "metadata": {
        "id": "97FQelbk6Az6",
        "colab_type": "code",
        "colab": {}
      },
      "source": [
        "look_back = 1\n",
        "X_train, y_train = get_data(train, look_back)"
      ],
      "execution_count": 0,
      "outputs": []
    },
    {
      "cell_type": "code",
      "metadata": {
        "id": "GuhrZQnT6BpM",
        "colab_type": "code",
        "colab": {
          "base_uri": "https://localhost:8080/",
          "height": 1000
        },
        "outputId": "9b11e935-df9b-4462-af06-c5c77e3bd7a9"
      },
      "source": [
        "X_train"
      ],
      "execution_count": 18,
      "outputs": [
        {
          "output_type": "execute_result",
          "data": {
            "text/plain": [
              "array([[0.01544402],\n",
              "       [0.02702703],\n",
              "       [0.05405405],\n",
              "       [0.04826255],\n",
              "       [0.03281853],\n",
              "       [0.05984556],\n",
              "       [0.08494208],\n",
              "       [0.08494208],\n",
              "       [0.06177606],\n",
              "       [0.02895753],\n",
              "       [0.        ],\n",
              "       [0.02702703],\n",
              "       [0.02123552],\n",
              "       [0.04247104],\n",
              "       [0.07142857],\n",
              "       [0.05984556],\n",
              "       [0.04054054],\n",
              "       [0.08687259],\n",
              "       [0.12741313],\n",
              "       [0.12741313],\n",
              "       [0.1042471 ],\n",
              "       [0.05598456],\n",
              "       [0.01930502],\n",
              "       [0.06949807],\n",
              "       [0.07915058],\n",
              "       [0.08880309],\n",
              "       [0.14285714],\n",
              "       [0.11389961],\n",
              "       [0.13127413],\n",
              "       [0.14285714],\n",
              "       [0.18339768],\n",
              "       [0.18339768],\n",
              "       [0.15444015],\n",
              "       [0.11196911],\n",
              "       [0.08108108],\n",
              "       [0.11969112],\n",
              "       [0.12934363],\n",
              "       [0.14671815],\n",
              "       [0.17181467],\n",
              "       [0.14864865],\n",
              "       [0.15250965],\n",
              "       [0.22007722],\n",
              "       [0.24324324],\n",
              "       [0.26640927],\n",
              "       [0.2027027 ],\n",
              "       [0.16795367],\n",
              "       [0.13127413],\n",
              "       [0.17374517],\n",
              "       [0.17760618],\n",
              "       [0.17760618],\n",
              "       [0.25482625],\n",
              "       [0.25289575],\n",
              "       [0.24131274],\n",
              "       [0.26833977],\n",
              "       [0.30888031],\n",
              "       [0.32432432],\n",
              "       [0.25675676],\n",
              "       [0.20656371],\n",
              "       [0.14671815],\n",
              "       [0.18725869],\n",
              "       [0.19305019],\n",
              "       [0.16216216],\n",
              "       [0.25289575],\n",
              "       [0.23745174],\n",
              "       [0.25096525],\n",
              "       [0.30888031],\n",
              "       [0.38223938],\n",
              "       [0.36486486],\n",
              "       [0.2992278 ],\n",
              "       [0.24131274],\n",
              "       [0.19111969],\n",
              "       [0.24131274],\n",
              "       [0.26640927],\n",
              "       [0.24903475],\n",
              "       [0.31467181],\n",
              "       [0.31853282],\n",
              "       [0.32046332],\n",
              "       [0.40733591],\n",
              "       [0.5019305 ],\n",
              "       [0.46911197],\n",
              "       [0.4015444 ],\n",
              "       [0.32818533],\n",
              "       [0.25675676],\n",
              "       [0.33590734],\n",
              "       [0.34749035],\n",
              "       [0.33397683],\n",
              "       [0.41119691],\n",
              "       [0.4034749 ],\n",
              "       [0.41312741],\n",
              "       [0.52123552],\n",
              "       [0.5965251 ],\n",
              "       [0.58108108],\n",
              "       [0.48455598],\n",
              "       [0.38996139],\n",
              "       [0.32239382],\n",
              "       [0.38996139],\n",
              "       [0.40733591],\n",
              "       [0.38030888]])"
            ]
          },
          "metadata": {
            "tags": []
          },
          "execution_count": 18
        }
      ]
    },
    {
      "cell_type": "code",
      "metadata": {
        "id": "0noMWTCl6Bxd",
        "colab_type": "code",
        "colab": {
          "base_uri": "https://localhost:8080/",
          "height": 357
        },
        "outputId": "04e18ec0-c7f6-471d-c086-148ebef9c4a8"
      },
      "source": [
        "y_train"
      ],
      "execution_count": 20,
      "outputs": [
        {
          "output_type": "execute_result",
          "data": {
            "text/plain": [
              "array([0.02702703, 0.05405405, 0.04826255, 0.03281853, 0.05984556,\n",
              "       0.08494208, 0.08494208, 0.06177606, 0.02895753, 0.        ,\n",
              "       0.02702703, 0.02123552, 0.04247104, 0.07142857, 0.05984556,\n",
              "       0.04054054, 0.08687259, 0.12741313, 0.12741313, 0.1042471 ,\n",
              "       0.05598456, 0.01930502, 0.06949807, 0.07915058, 0.08880309,\n",
              "       0.14285714, 0.11389961, 0.13127413, 0.14285714, 0.18339768,\n",
              "       0.18339768, 0.15444015, 0.11196911, 0.08108108, 0.11969112,\n",
              "       0.12934363, 0.14671815, 0.17181467, 0.14864865, 0.15250965,\n",
              "       0.22007722, 0.24324324, 0.26640927, 0.2027027 , 0.16795367,\n",
              "       0.13127413, 0.17374517, 0.17760618, 0.17760618, 0.25482625,\n",
              "       0.25289575, 0.24131274, 0.26833977, 0.30888031, 0.32432432,\n",
              "       0.25675676, 0.20656371, 0.14671815, 0.18725869, 0.19305019,\n",
              "       0.16216216, 0.25289575, 0.23745174, 0.25096525, 0.30888031,\n",
              "       0.38223938, 0.36486486, 0.2992278 , 0.24131274, 0.19111969,\n",
              "       0.24131274, 0.26640927, 0.24903475, 0.31467181, 0.31853282,\n",
              "       0.32046332, 0.40733591, 0.5019305 , 0.46911197, 0.4015444 ,\n",
              "       0.32818533, 0.25675676, 0.33590734, 0.34749035, 0.33397683,\n",
              "       0.41119691, 0.4034749 , 0.41312741, 0.52123552, 0.5965251 ,\n",
              "       0.58108108, 0.48455598, 0.38996139, 0.32239382, 0.38996139,\n",
              "       0.40733591, 0.38030888, 0.48648649])"
            ]
          },
          "metadata": {
            "tags": []
          },
          "execution_count": 20
        }
      ]
    },
    {
      "cell_type": "code",
      "metadata": {
        "id": "yYGpru9m6B5X",
        "colab_type": "code",
        "colab": {}
      },
      "source": [
        "X_test, y_test = get_data(test, look_back)"
      ],
      "execution_count": 0,
      "outputs": []
    },
    {
      "cell_type": "code",
      "metadata": {
        "id": "dKZqW0yz6B-z",
        "colab_type": "code",
        "colab": {}
      },
      "source": [
        "X_train = X_train.reshape(X_train.shape[0], X_train.shape[1], 1)\n",
        "X_test = X_test.reshape(X_test.shape[0], X_test.shape[1], 1)"
      ],
      "execution_count": 0,
      "outputs": []
    },
    {
      "cell_type": "code",
      "metadata": {
        "id": "u4UrKP_16CCb",
        "colab_type": "code",
        "colab": {
          "base_uri": "https://localhost:8080/",
          "height": 34
        },
        "outputId": "e525b399-44fa-47bf-bf2f-95f3b5e905f5"
      },
      "source": [
        "X_train.shape"
      ],
      "execution_count": 23,
      "outputs": [
        {
          "output_type": "execute_result",
          "data": {
            "text/plain": [
              "(98, 1, 1)"
            ]
          },
          "metadata": {
            "tags": []
          },
          "execution_count": 23
        }
      ]
    },
    {
      "cell_type": "code",
      "metadata": {
        "id": "CnEqBGxK6B8O",
        "colab_type": "code",
        "colab": {}
      },
      "source": [
        "model = Sequential()\n",
        "model.add(LSTM(5, input_shape = (1, look_back)))\n",
        "model.add(Dense(1))\n",
        "model.compile(loss = 'mean_squared_error', optimizer = 'adam')"
      ],
      "execution_count": 0,
      "outputs": []
    },
    {
      "cell_type": "code",
      "metadata": {
        "id": "ku1kRavO6B3G",
        "colab_type": "code",
        "colab": {
          "base_uri": "https://localhost:8080/",
          "height": 221
        },
        "outputId": "15841d0b-9a94-4a18-d665-7b416bdfa47e"
      },
      "source": [
        "model.summary()"
      ],
      "execution_count": 25,
      "outputs": [
        {
          "output_type": "stream",
          "text": [
            "Model: \"sequential\"\n",
            "_________________________________________________________________\n",
            "Layer (type)                 Output Shape              Param #   \n",
            "=================================================================\n",
            "lstm (LSTM)                  (None, 5)                 140       \n",
            "_________________________________________________________________\n",
            "dense (Dense)                (None, 1)                 6         \n",
            "=================================================================\n",
            "Total params: 146\n",
            "Trainable params: 146\n",
            "Non-trainable params: 0\n",
            "_________________________________________________________________\n"
          ],
          "name": "stdout"
        }
      ]
    },
    {
      "cell_type": "code",
      "metadata": {
        "id": "muoNCIvG6B1I",
        "colab_type": "code",
        "colab": {
          "base_uri": "https://localhost:8080/",
          "height": 1000
        },
        "outputId": "4f656823-eb69-4264-de0e-15cead6877d9"
      },
      "source": [
        "model.fit(X_train, y_train, epochs=50, batch_size=1)"
      ],
      "execution_count": 26,
      "outputs": [
        {
          "output_type": "stream",
          "text": [
            "Train on 98 samples\n",
            "Epoch 1/50\n",
            "98/98 [==============================] - 2s 25ms/sample - loss: 0.0510\n",
            "Epoch 2/50\n",
            "98/98 [==============================] - 0s 3ms/sample - loss: 0.0242\n",
            "Epoch 3/50\n",
            "98/98 [==============================] - 0s 3ms/sample - loss: 0.0175\n",
            "Epoch 4/50\n",
            "98/98 [==============================] - 0s 3ms/sample - loss: 0.0156\n",
            "Epoch 5/50\n",
            "98/98 [==============================] - 0s 3ms/sample - loss: 0.0143\n",
            "Epoch 6/50\n",
            "98/98 [==============================] - 0s 3ms/sample - loss: 0.0132\n",
            "Epoch 7/50\n",
            "98/98 [==============================] - 0s 3ms/sample - loss: 0.0121\n",
            "Epoch 8/50\n",
            "98/98 [==============================] - 0s 2ms/sample - loss: 0.0110\n",
            "Epoch 9/50\n",
            "98/98 [==============================] - 0s 2ms/sample - loss: 0.0098\n",
            "Epoch 10/50\n",
            "98/98 [==============================] - 0s 3ms/sample - loss: 0.0087\n",
            "Epoch 11/50\n",
            "98/98 [==============================] - 0s 3ms/sample - loss: 0.0077\n",
            "Epoch 12/50\n",
            "98/98 [==============================] - 0s 2ms/sample - loss: 0.0067\n",
            "Epoch 13/50\n",
            "98/98 [==============================] - 0s 2ms/sample - loss: 0.0058\n",
            "Epoch 14/50\n",
            "98/98 [==============================] - 0s 2ms/sample - loss: 0.0050\n",
            "Epoch 15/50\n",
            "98/98 [==============================] - 0s 3ms/sample - loss: 0.0043\n",
            "Epoch 16/50\n",
            "98/98 [==============================] - 0s 2ms/sample - loss: 0.0037\n",
            "Epoch 17/50\n",
            "98/98 [==============================] - 0s 2ms/sample - loss: 0.0032\n",
            "Epoch 18/50\n",
            "98/98 [==============================] - 0s 2ms/sample - loss: 0.0028\n",
            "Epoch 19/50\n",
            "98/98 [==============================] - 0s 2ms/sample - loss: 0.0026\n",
            "Epoch 20/50\n",
            "98/98 [==============================] - 0s 2ms/sample - loss: 0.0024\n",
            "Epoch 21/50\n",
            "98/98 [==============================] - 0s 2ms/sample - loss: 0.0022\n",
            "Epoch 22/50\n",
            "98/98 [==============================] - 0s 3ms/sample - loss: 0.0023\n",
            "Epoch 23/50\n",
            "98/98 [==============================] - 0s 3ms/sample - loss: 0.0022\n",
            "Epoch 24/50\n",
            "98/98 [==============================] - 0s 3ms/sample - loss: 0.0022\n",
            "Epoch 25/50\n",
            "98/98 [==============================] - 0s 2ms/sample - loss: 0.0022\n",
            "Epoch 26/50\n",
            "98/98 [==============================] - 0s 3ms/sample - loss: 0.0022\n",
            "Epoch 27/50\n",
            "98/98 [==============================] - 0s 3ms/sample - loss: 0.0022\n",
            "Epoch 28/50\n",
            "98/98 [==============================] - 0s 3ms/sample - loss: 0.0022\n",
            "Epoch 29/50\n",
            "98/98 [==============================] - 0s 2ms/sample - loss: 0.0021\n",
            "Epoch 30/50\n",
            "98/98 [==============================] - 0s 3ms/sample - loss: 0.0021\n",
            "Epoch 31/50\n",
            "98/98 [==============================] - 0s 3ms/sample - loss: 0.0022\n",
            "Epoch 32/50\n",
            "98/98 [==============================] - 0s 2ms/sample - loss: 0.0021\n",
            "Epoch 33/50\n",
            "98/98 [==============================] - 0s 3ms/sample - loss: 0.0021\n",
            "Epoch 34/50\n",
            "98/98 [==============================] - 0s 2ms/sample - loss: 0.0021\n",
            "Epoch 35/50\n",
            "98/98 [==============================] - 0s 2ms/sample - loss: 0.0021\n",
            "Epoch 36/50\n",
            "98/98 [==============================] - 0s 3ms/sample - loss: 0.0021\n",
            "Epoch 37/50\n",
            "98/98 [==============================] - 0s 3ms/sample - loss: 0.0021\n",
            "Epoch 38/50\n",
            "98/98 [==============================] - 0s 3ms/sample - loss: 0.0021\n",
            "Epoch 39/50\n",
            "98/98 [==============================] - 0s 2ms/sample - loss: 0.0021\n",
            "Epoch 40/50\n",
            "98/98 [==============================] - 0s 3ms/sample - loss: 0.0022\n",
            "Epoch 41/50\n",
            "98/98 [==============================] - 0s 2ms/sample - loss: 0.0021\n",
            "Epoch 42/50\n",
            "98/98 [==============================] - 0s 2ms/sample - loss: 0.0021\n",
            "Epoch 43/50\n",
            "98/98 [==============================] - 0s 2ms/sample - loss: 0.0021\n",
            "Epoch 44/50\n",
            "98/98 [==============================] - 0s 2ms/sample - loss: 0.0022\n",
            "Epoch 45/50\n",
            "98/98 [==============================] - 0s 2ms/sample - loss: 0.0021\n",
            "Epoch 46/50\n",
            "98/98 [==============================] - 0s 3ms/sample - loss: 0.0021\n",
            "Epoch 47/50\n",
            "98/98 [==============================] - 0s 2ms/sample - loss: 0.0021\n",
            "Epoch 48/50\n",
            "98/98 [==============================] - 0s 2ms/sample - loss: 0.0021\n",
            "Epoch 49/50\n",
            "98/98 [==============================] - 0s 2ms/sample - loss: 0.0021\n",
            "Epoch 50/50\n",
            "98/98 [==============================] - 0s 2ms/sample - loss: 0.0021\n"
          ],
          "name": "stdout"
        },
        {
          "output_type": "execute_result",
          "data": {
            "text/plain": [
              "<tensorflow.python.keras.callbacks.History at 0x7f12eb2c6c88>"
            ]
          },
          "metadata": {
            "tags": []
          },
          "execution_count": 26
        }
      ]
    },
    {
      "cell_type": "code",
      "metadata": {
        "id": "aT9DCAbU6Bvf",
        "colab_type": "code",
        "colab": {}
      },
      "source": [
        "y_pred = model.predict(X_test)"
      ],
      "execution_count": 0,
      "outputs": []
    },
    {
      "cell_type": "code",
      "metadata": {
        "id": "Ub3K4iVf6nUk",
        "colab_type": "code",
        "colab": {
          "base_uri": "https://localhost:8080/",
          "height": 34
        },
        "outputId": "8f3e5a80-768b-4afb-b169-1838df934fdd"
      },
      "source": [
        "scaler.scale_"
      ],
      "execution_count": 28,
      "outputs": [
        {
          "output_type": "execute_result",
          "data": {
            "text/plain": [
              "array([0.0019305])"
            ]
          },
          "metadata": {
            "tags": []
          },
          "execution_count": 28
        }
      ]
    },
    {
      "cell_type": "code",
      "metadata": {
        "id": "1lhtJqg86nYf",
        "colab_type": "code",
        "colab": {}
      },
      "source": [
        "y_pred = scaler.inverse_transform(y_pred)"
      ],
      "execution_count": 0,
      "outputs": []
    },
    {
      "cell_type": "code",
      "metadata": {
        "id": "3lv7llOY6nR2",
        "colab_type": "code",
        "colab": {}
      },
      "source": [
        "y_test = np.array(y_test)\n",
        "y_test = y_test.reshape(-1, 1)\n",
        "y_test = scaler.inverse_transform(y_test)"
      ],
      "execution_count": 0,
      "outputs": []
    },
    {
      "cell_type": "code",
      "metadata": {
        "id": "jescpks26nO5",
        "colab_type": "code",
        "colab": {
          "base_uri": "https://localhost:8080/",
          "height": 323
        },
        "outputId": "48e76307-052e-4712-d293-7eeedd29fcd6"
      },
      "source": [
        "# plot baseline and predictions\n",
        "plt.figure(figsize=(14,5))\n",
        "plt.plot(y_test, label = 'real number of passengers')\n",
        "plt.plot(y_pred, label = 'predicted number of passengers')\n",
        "plt.ylabel('# passengers')\n",
        "plt.legend()\n",
        "plt.show()"
      ],
      "execution_count": 31,
      "outputs": [
        {
          "output_type": "display_data",
          "data": {
            "image/png": "[encoded data removed]",
            "text/plain": [
              "<Figure size 1008x360 with 1 Axes>"
            ]
          },
          "metadata": {
            "tags": []
          }
        }
      ]
    },
    {
      "cell_type": "code",
      "metadata": {
        "id": "s8RNOprZ6nMO",
        "colab_type": "code",
        "colab": {}
      },
      "source": [
        ""
      ],
      "execution_count": 0,
      "outputs": []
    },
    {
      "cell_type": "code",
      "metadata": {
        "id": "SR-_lE2G6BtZ",
        "colab_type": "code",
        "colab": {}
      },
      "source": [
        ""
      ],
      "execution_count": 0,
      "outputs": []
    }
  ]
}